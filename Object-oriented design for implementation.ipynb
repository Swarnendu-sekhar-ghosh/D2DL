{
 "cells": [
  {
   "cell_type": "markdown",
   "id": "9e036c08",
   "metadata": {},
   "source": [
    "#### Treating components in Deep learning as objects, we can start by defining classes for these objects and their interactions. \n",
    "\n",
    "At a high level we wish to have three classes :   \n",
    "\n",
    "(i) $\\textbf{Module}$: contains models, losses, and optimization methods;  \n",
    "(ii) $\\textbf{DataModule}$: provides data loaders for training and validation;  \n",
    "(iii) both classes are combined using the $\\textbf{Trainer class}$ which allows us to train our models on various hardware. "
   ]
  },
  {
   "cell_type": "code",
   "execution_count": 1,
   "id": "a82a6694",
   "metadata": {},
   "outputs": [],
   "source": [
    "import time\n",
    "import numpy as np\n",
    "import torch\n",
    "from torch import nn\n",
    "from d2l import torch as d2l"
   ]
  },
  {
   "cell_type": "markdown",
   "id": "2b252b14",
   "metadata": {},
   "source": [
    "# Utilities\n",
    "\n",
    "Utilities simplify object oriented programming in Jupyter notebbooks. One issue with class definitions is that they are fairly long blocks of code. \n",
    "\n",
    "#### <font color = 'red'> The first utility function allows us to register functions as methods in a class after the class has been created. This is possible even after we have created instances of the class!! It allows us to split the implementation of a class into multiple code blocks. </font>"
   ]
  },
  {
   "cell_type": "code",
   "execution_count": 13,
   "id": "7b8ad31b",
   "metadata": {},
   "outputs": [],
   "source": [
    "def add_to_class (Class):  #@save\n",
    "    \"\"\" Register functions as methods in created class. This is a utility operation in metaprogramming.\"\"\"\n",
    "    def wrapper(obj):\n",
    "        setattr(Class, obj.__name__,obj) # This line sets a method on the class dynamically: it assigns the function obj to the class with its own name.\n",
    "\n",
    "    return wrapper "
   ]
  },
  {
   "cell_type": "markdown",
   "id": "5864afdd",
   "metadata": {},
   "source": [
    "##### Uisng the above : \n",
    "We plan to implement a class A with a method do. Instead of having code for both A and do in the same code block, we can first declare the class A and create an instance a. "
   ]
  },
  {
   "cell_type": "code",
   "execution_count": 18,
   "id": "fd2e37c7",
   "metadata": {},
   "outputs": [],
   "source": [
    "class A:\n",
    "    def __init__(self):\n",
    "      self.b = 1\n",
    "      self.c = 23\n",
    "\n",
    "a = A() # a is an instance of class A"
   ]
  },
  {
   "cell_type": "code",
   "execution_count": 22,
   "id": "91276951",
   "metadata": {},
   "outputs": [
    {
     "name": "stdout",
     "output_type": "stream",
     "text": [
      "Class attribute \"b\" is 1\n",
      "Barcelona wins laliga 23rd time.\n"
     ]
    }
   ],
   "source": [
    "@add_to_class(A) # So the add_to_class is a utility function that applies the wrapper to the function do, and as a result, do becomes a method of class A.\n",
    "def do(self):    \n",
    "    print('Class attribute \"b\" is', self.b)\n",
    "@add_to_class(A)    \n",
    "def hurray(self):\n",
    "    print('Barcelona wins laliga ' + str(self.c) + 'rd time.')\n",
    "\n",
    "a.do()    \n",
    "a.hurray()"
   ]
  },
  {
   "cell_type": "markdown",
   "id": "36a7e36d",
   "metadata": {},
   "source": [
    "#### The second one is a $``\\textbf{utility class}\"$ that saves all arguments in a class's **`__init__`** method as class attributes. This allows us to extend constructor call signatures implicitly without additonal code."
   ]
  }
 ],
 "metadata": {
  "kernelspec": {
   "display_name": "d2dlenv",
   "language": "python",
   "name": "python3"
  },
  "language_info": {
   "codemirror_mode": {
    "name": "ipython",
    "version": 3
   },
   "file_extension": ".py",
   "mimetype": "text/x-python",
   "name": "python",
   "nbconvert_exporter": "python",
   "pygments_lexer": "ipython3",
   "version": "3.10.10"
  }
 },
 "nbformat": 4,
 "nbformat_minor": 5
}
